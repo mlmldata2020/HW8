{
 "cells": [
  {
   "cell_type": "markdown",
   "metadata": {},
   "source": [
    "## Statistical thinking\n",
    "\n",
    "The following videos and reading will be a starting point for discussion and pratical application of Bayesian methods in next week's class."
   ]
  },
  {
   "cell_type": "markdown",
   "metadata": {},
   "source": [
    "#### a) Bayesian statistics - part a\n",
    "\n",
    "Watch the video:\n",
    "\n",
    "[All About that Bayes: Probability, Statistics, and the Quest to Quantify Uncertainty](https://www.youtube.com/watch?v=eDMGDhyDxuY)\n",
    "\n",
    "by Lawrence Livermore National Laboratory statistician Dr. Kristin Lennox (approx. 1 hour).\n",
    "\n",
    "Dr. Lennox describes four different types of uncertainty. Describe each type of uncertainity and give an example of each in marine science."
   ]
  },
  {
   "cell_type": "markdown",
   "metadata": {},
   "source": [
    "*Insert text here*"
   ]
  },
  {
   "cell_type": "markdown",
   "metadata": {},
   "source": [
    "#### b) Bayesian statistics - part b\n",
    "\n",
    "Watch the video:\n",
    "\n",
    "[Frequentism and Bayesianism: What's the Big Deal?](https://www.youtube.com/watch?v=KhAUfqhLakw)\n",
    "\n",
    "by astronomer and Google software engineer Dr. Jake VanderPlas.\n",
    "\n",
    "What is the difference between a frequentist confidence interval and a Bayesian credible interval?"
   ]
  },
  {
   "cell_type": "markdown",
   "metadata": {},
   "source": [
    "*Insert text here*"
   ]
  },
  {
   "cell_type": "markdown",
   "metadata": {},
   "source": [
    "#### c) Discussion Reading\n",
    "\n",
    "Read *one* of the following articles on the limitations of p-values and null hypothesis testing (both can be found in the `reading` directory of this repository).\n",
    "\n",
    "* Nuzzo, R., Scientific Method: Statistical Errors, 2014, Nature, 506, 150-152.\n",
    "\n",
    "* Five ways to fix statistics, 2017, Nature, 551, 557-559.\n",
    "\n",
    "In a the space below, explain:\n",
    "\n",
    "i. One common misconception about p-values or null-hypothesis significance testing, and why it is incorrect.\n",
    "\n",
    "ii. One general way in which the use of statistics could be improved in scientific research."
   ]
  },
  {
   "cell_type": "markdown",
   "metadata": {},
   "source": [
    "*Insert text here*"
   ]
  }
 ],
 "metadata": {
  "kernelspec": {
   "display_name": "Python [conda env:ms263]",
   "language": "python",
   "name": "conda-env-ms263-py"
  },
  "language_info": {
   "codemirror_mode": {
    "name": "ipython",
    "version": 3
   },
   "file_extension": ".py",
   "mimetype": "text/x-python",
   "name": "python",
   "nbconvert_exporter": "python",
   "pygments_lexer": "ipython3",
   "version": "3.7.6"
  }
 },
 "nbformat": 4,
 "nbformat_minor": 4
}
